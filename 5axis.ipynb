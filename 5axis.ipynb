{
 "cells": [
  {
   "cell_type": "code",
   "execution_count": 5,
   "metadata": {},
   "outputs": [
    {
     "name": "stdout",
     "output_type": "stream",
     "text": [
      "the rot c is:  [ 4.753 25.583 27.414]\n",
      "(3,)\n",
      "C angle is:  40.000\n",
      "A angle is:  -57.000\n"
     ]
    }
   ],
   "source": [
    "import math\n",
    "import os\n",
    "import numpy as np\n",
    "\n",
    "\n",
    "i = -0.5390870\n",
    "j = 0.6424589\n",
    "k = 0.5446390\n",
    "xy = i*i + j*j\n",
    "\n",
    "x = 4.753\n",
    "y = 25.583\n",
    "z = 27.414\n",
    "\n",
    "rotC = np.ones(3)\n",
    "rotC[0] = x\n",
    "rotC[1] = y\n",
    "rotC[2] = z\n",
    "print('the rot c is: ', rotC)\n",
    "\n",
    "print(rotC.)\n",
    "rotA = np.ones(3)\n",
    "\n",
    "if(i>0 and j>0):\n",
    "    pass\n",
    "    angleC = -math.atan2(i, j)\n",
    "    angleA = -math.atan2(math.sqrt(xy), k)\n",
    "\n",
    "if(i<0 and j>0):\n",
    "    pass\n",
    "    angleC = -math.atan2(i, j)\n",
    "    angleA = -math.atan2(math.sqrt(xy), k)\n",
    "if(i<0 and j<0):\n",
    "    pass\n",
    "    angleC = -(math.atan2(i, j) + math.pi)\n",
    "    angleA = math.atan2(math.sqrt(xy), k)\n",
    "if(i>0 and j<0):\n",
    "    pass\n",
    "    angleC = math.pi - math.atan2(i,j)\n",
    "    angleA = math.atan2(math.sqrt(xy), k)\n",
    "    #print('test angle: ', angleC*180/math.pi)\n",
    "#angleC = math.atan2(i, j)\n",
    "#angleA = math.atan2(math.sqrt(xy), k)\n",
    "print('{0:s} {1:.3f}'.format('C angle is: ', angleC*180/math.pi))\n",
    "print('{0:s} {1:.3f}'.format('A angle is: ', angleA*180/math.pi))"
   ]
  },
  {
   "cell_type": "code",
   "execution_count": null,
   "metadata": {},
   "outputs": [],
   "source": []
  }
 ],
 "metadata": {
  "kernelspec": {
   "display_name": "Python 3",
   "language": "python",
   "name": "python3"
  },
  "language_info": {
   "codemirror_mode": {
    "name": "ipython",
    "version": 3
   },
   "file_extension": ".py",
   "mimetype": "text/x-python",
   "name": "python",
   "nbconvert_exporter": "python",
   "pygments_lexer": "ipython3",
   "version": "3.6.4"
  }
 },
 "nbformat": 4,
 "nbformat_minor": 2
}
