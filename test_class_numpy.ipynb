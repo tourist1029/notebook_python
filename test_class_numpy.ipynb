{
 "cells": [
  {
   "cell_type": "code",
   "execution_count": null,
   "metadata": {},
   "outputs": [],
   "source": []
  },
  {
   "cell_type": "code",
   "execution_count": 1,
   "metadata": {},
   "outputs": [],
   "source": [
    "import numpy as np"
   ]
  },
  {
   "cell_type": "code",
   "execution_count": 28,
   "metadata": {},
   "outputs": [],
   "source": [
    "class Person():\n",
    "    def __init__(self, name):\n",
    "        self.name = name\n",
    "\n",
    "class EmailPerson(Person):\n",
    "    def __init__(self, name, email):\n",
    "        super().__init__(name)\n",
    "        self.email = email\n",
    "\n",
    "    \n",
    "    \n",
    "\n"
   ]
  },
  {
   "cell_type": "code",
   "execution_count": 32,
   "metadata": {},
   "outputs": [
    {
     "name": "stdout",
     "output_type": "stream",
     "text": [
      "The might hunter:  Daniel\n"
     ]
    },
    {
     "data": {
      "text/plain": [
       "'bob2019@gmail.com'"
      ]
     },
     "execution_count": 32,
     "metadata": {},
     "output_type": "execute_result"
    }
   ],
   "source": [
    "hunter = Person('Daniel')\n",
    "print('The might hunter: ', hunter.name)\n",
    "bob = EmailPerson('Bob', 'bob2019@gmail.com')\n",
    "bob.name\n",
    "bob.email"
   ]
  },
  {
   "cell_type": "code",
   "execution_count": 26,
   "metadata": {},
   "outputs": [],
   "source": [
    "class Car():\n",
    "    def exclaim(self):\n",
    "        print('I am a Car!')\n",
    "\n",
    "class Yugo(Car):\n",
    "    def exclaim(self):\n",
    "        print('I am a Yugo! Much like a Car, but more Yugo-ish.')\n",
    "    def need_a_push(self):\n",
    "        print('A little help here?')\n",
    "\n",
    "\n",
    "\n"
   ]
  },
  {
   "cell_type": "code",
   "execution_count": 27,
   "metadata": {},
   "outputs": [
    {
     "name": "stdout",
     "output_type": "stream",
     "text": [
      "I am a Car!\n",
      "I am a Yugo! Much like a Car, but more Yugo-ish.\n",
      "A little help here?\n"
     ]
    }
   ],
   "source": [
    "give_me_a_car = Car()\n",
    "give_me_a_yugo = Yugo()\n",
    "give_me_a_car.exclaim()\n",
    "give_me_a_yugo.exclaim()\n",
    "give_me_a_yugo.need_a_push()"
   ]
  },
  {
   "cell_type": "code",
   "execution_count": 42,
   "metadata": {},
   "outputs": [],
   "source": [
    "class Duck():\n",
    "    def __init__(self, input_name):\n",
    "        self.__name = input_name\n",
    "    @property\n",
    "    def name(self):\n",
    "        print('inside the getter')\n",
    "        return self.__name\n",
    "    @name.setter\n",
    "    def name(self,input_name):\n",
    "        print('inside the setter')\n",
    "        self.__name = input_name\n",
    "    #name = property(get_name, set_name)\n",
    "    "
   ]
  },
  {
   "cell_type": "code",
   "execution_count": 47,
   "metadata": {},
   "outputs": [
    {
     "name": "stdout",
     "output_type": "stream",
     "text": [
      "inside the setter\n"
     ]
    },
    {
     "data": {
      "text/plain": [
       "'Booob'"
      ]
     },
     "execution_count": 47,
     "metadata": {},
     "output_type": "execute_result"
    }
   ],
   "source": [
    "fowl = Duck('Howward')\n",
    "fowl.name = 'Booob'\n",
    "#fowl.name\n",
    "fowl._Duck__name"
   ]
  },
  {
   "cell_type": "code",
   "execution_count": 48,
   "metadata": {},
   "outputs": [],
   "source": [
    "class Circle():\n",
    "    def __init__(self, radius):\n",
    "        self.radius = radius\n",
    "    @property\n",
    "    def diameter(self):\n",
    "        return 2 * self.radius\n",
    "    "
   ]
  },
  {
   "cell_type": "code",
   "execution_count": 49,
   "metadata": {},
   "outputs": [],
   "source": [
    "class A():\n",
    "    count = 0\n",
    "    def __init__(self):\n",
    "        A.count += 1\n",
    "    def exclaim(self):\n",
    "        print('I am  an A')\n",
    "    @classmethod\n",
    "    def kids(cls):\n",
    "        print('A has: ', cls.count, 'little objects.')"
   ]
  },
  {
   "cell_type": "code",
   "execution_count": 50,
   "metadata": {},
   "outputs": [
    {
     "name": "stdout",
     "output_type": "stream",
     "text": [
      "A has:  3 little objects.\n"
     ]
    }
   ],
   "source": [
    "easy_a = A()\n",
    "breezy = A()\n",
    "wheezy_a = A()\n",
    "A.kids()"
   ]
  },
  {
   "cell_type": "code",
   "execution_count": 51,
   "metadata": {},
   "outputs": [],
   "source": [
    "class Quote():\n",
    "    def __init__(self, person, words):\n",
    "        self.person = person\n",
    "        self.words = words\n",
    "    def who(self):\n",
    "        return self.person\n",
    "    def says(self):\n",
    "        return self.words + '.'\n",
    "    \n",
    "class QuestionQuote(Quote):\n",
    "    def says(self):\n",
    "        return self.words + '?'\n",
    "    \n",
    "class ExclamationQuote(Quote):\n",
    "    def says(self):\n",
    "        return self.words + '!'\n",
    "    \n",
    "\n",
    "    "
   ]
  },
  {
   "cell_type": "code",
   "execution_count": 52,
   "metadata": {},
   "outputs": [
    {
     "name": "stdout",
     "output_type": "stream",
     "text": [
      "Daniel says:  I am hunting wabbits.\n",
      "Bob says:  What is up, doc?\n",
      "Daffy Duck says:  It is rabbit season!\n"
     ]
    }
   ],
   "source": [
    "hunter = Quote('Daniel', 'I am hunting wabbits')\n",
    "print(hunter.who(), 'says: ', hunter.says())\n",
    "hunter1 = QuestionQuote('Bob', 'What is up, doc')\n",
    "print(hunter1.who(), 'says: ', hunter1.says())\n",
    "hunter2 = ExclamationQuote('Daffy Duck', 'It is rabbit season')\n",
    "print(hunter2.who(), 'says: ', hunter2.says())\n"
   ]
  },
  {
   "cell_type": "code",
   "execution_count": 60,
   "metadata": {},
   "outputs": [
    {
     "name": "stdout",
     "output_type": "stream",
     "text": [
      "string cheese         42   7.035875\n",
      "string cheese 42         7.035875  \n",
      "   stri        42       7.0359  \n"
     ]
    }
   ],
   "source": [
    "n = 42\n",
    "f = 7.0358745\n",
    "s = 'string cheese'\n",
    "print('{2:>10s} {0:>10d} {1:>10f}'.format(n, f, s))\n",
    "print('{2:<10s} {0:<10d} {1:<10f}'.format(n, f, s))\n",
    "print('{2:^10.4s} {0:^10d} {1:^10.4f}'.format(n, f, s))"
   ]
  },
  {
   "cell_type": "code",
   "execution_count": 28,
   "metadata": {},
   "outputs": [
    {
     "name": "stdout",
     "output_type": "stream",
     "text": [
      "C angle is:  40.000\n",
      "A angle is:  -57.000\n"
     ]
    }
   ],
   "source": [
    "import math\n",
    "import os\n",
    "\n",
    "i = -0.5390870\n",
    "j = 0.6424589\n",
    "k = 0.5446390\n",
    "xy = i*i + j*j\n",
    "if(i>0 and j>0):\n",
    "    pass\n",
    "    angleC = -math.atan2(i, j)\n",
    "    angleA = -math.atan2(math.sqrt(xy), k)\n",
    "\n",
    "if(i<0 and j>0):\n",
    "    pass\n",
    "    angleC = -math.atan2(i, j)\n",
    "    angleA = -math.atan2(math.sqrt(xy), k)\n",
    "if(i<0 and j<0):\n",
    "    pass\n",
    "    angleC = -(math.atan2(i, j) + math.pi)\n",
    "    angleA = math.atan2(math.sqrt(xy), k)\n",
    "if(i>0 and j<0):\n",
    "    pass\n",
    "    angleC = math.pi - math.atan2(i,j)\n",
    "    angleA = math.atan2(math.sqrt(xy), k)\n",
    "    #print('test angle: ', angleC*180/math.pi)\n",
    "#angleC = math.atan2(i, j)\n",
    "#angleA = math.atan2(math.sqrt(xy), k)\n",
    "print('{0:s} {1:.3f}'.format('C angle is: ', angleC*180/math.pi))\n",
    "print('{0:s} {1:.3f}'.format('A angle is: ', angleA*180/math.pi))"
   ]
  },
  {
   "cell_type": "code",
   "execution_count": null,
   "metadata": {},
   "outputs": [],
   "source": []
  },
  {
   "cell_type": "code",
   "execution_count": null,
   "metadata": {},
   "outputs": [],
   "source": []
  }
 ],
 "metadata": {
  "kernelspec": {
   "display_name": "Python 3",
   "language": "python",
   "name": "python3"
  },
  "language_info": {
   "codemirror_mode": {
    "name": "ipython",
    "version": 3
   },
   "file_extension": ".py",
   "mimetype": "text/x-python",
   "name": "python",
   "nbconvert_exporter": "python",
   "pygments_lexer": "ipython3",
   "version": "3.6.5"
  }
 },
 "nbformat": 4,
 "nbformat_minor": 2
}
